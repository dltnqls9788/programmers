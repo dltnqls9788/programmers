{
 "cells": [
  {
   "cell_type": "code",
   "execution_count": 43,
   "id": "36510fe3",
   "metadata": {},
   "outputs": [],
   "source": [
    "geners = [\"classic\", \"pop\", \"classic\", \"classic\", \"pop\"]\n",
    "plays = [500, 600, 150, 800, 2500]"
   ]
  },
  {
   "cell_type": "code",
   "execution_count": 64,
   "id": "42bc50be",
   "metadata": {},
   "outputs": [],
   "source": [
    "def solution(geners, plays):\n",
    "    total_genre_d = {}\n",
    "    answer = []\n",
    "    \n",
    "    temp = [[geners[i], plays[i], i] for i in range(len(geners))]\n",
    "    temp = sorted(temp, key=lambda x: (x[0], -x[1], x[2]))\n",
    "    \n",
    "    for g in temp:\n",
    "        if g[0] not in total_genre_d:\n",
    "            total_genre_d[g[0]] = g[1]\n",
    "        else:\n",
    "            total_genre_d[g[0]] += g[1]\n",
    "            \n",
    "    total_genre_d = sorted(total_genre_d.items(), key = lambda x: -x[1])\n",
    "    \n",
    "    for i in total_genre_d:\n",
    "        count = 0 \n",
    "        for j in temp:\n",
    "            if i[0] == j[0]:\n",
    "                count += 1\n",
    "                if count > 2:\n",
    "                    break\n",
    "                else:\n",
    "                    answer.append(j[2])\n",
    "                          \n",
    "    return answer   "
   ]
  },
  {
   "cell_type": "code",
   "execution_count": 66,
   "id": "1ecfef42",
   "metadata": {},
   "outputs": [
    {
     "data": {
      "text/plain": [
       "[4, 1, 3, 0]"
      ]
     },
     "execution_count": 66,
     "metadata": {},
     "output_type": "execute_result"
    }
   ],
   "source": [
    "solution(geners,plays)"
   ]
  }
 ],
 "metadata": {
  "kernelspec": {
   "display_name": "Python 3 (ipykernel)",
   "language": "python",
   "name": "python3"
  },
  "language_info": {
   "codemirror_mode": {
    "name": "ipython",
    "version": 3
   },
   "file_extension": ".py",
   "mimetype": "text/x-python",
   "name": "python",
   "nbconvert_exporter": "python",
   "pygments_lexer": "ipython3",
   "version": "3.9.12"
  }
 },
 "nbformat": 4,
 "nbformat_minor": 5
}
