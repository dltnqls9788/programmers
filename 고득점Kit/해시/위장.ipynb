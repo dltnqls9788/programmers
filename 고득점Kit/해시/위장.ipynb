{
 "cells": [
  {
   "cell_type": "code",
   "execution_count": 78,
   "id": "29d2ad86",
   "metadata": {},
   "outputs": [],
   "source": [
    "clothes1 = [[\"yellowhat\", \"headgear\"], [\"bluesunglasses\", \"eyewear\"], [\"green_turban\", \"headgear\"]]\n",
    "clothes2 = [[\"crowmask\", \"face\"], [\"bluesunglasses\", \"face\"], [\"smoky_makeup\", \"face\"]]"
   ]
  },
  {
   "cell_type": "code",
   "execution_count": 81,
   "id": "f3271e9f",
   "metadata": {},
   "outputs": [],
   "source": [
    "import collections \n",
    "\n",
    "def solution(clothes):\n",
    "    answer = 1\n",
    "    count = list(collections.Counter(dict(clothes).values()).values())\n",
    "    \n",
    "    if len(count) > 1:\n",
    "        for i in count:\n",
    "            answer *= i \n",
    "            return answer + len(clothes)\n",
    "    else:\n",
    "        return len(clothes)"
   ]
  },
  {
   "cell_type": "code",
   "execution_count": 76,
   "id": "d336bdcb",
   "metadata": {},
   "outputs": [],
   "source": [
    "def solution(clothes):\n",
    "    answer = 1\n",
    "    hanger_dict = {}\n",
    "    \n",
    "    for clo in clothes:\n",
    "        if clo[1] not in hanger_dict.keys():\n",
    "            hanger_dict[clo[1]] = 1 \n",
    "        else:\n",
    "            hanger_dict[clo[1]] += 1 \n",
    "        \n",
    "    for key, value in hanger_dict.items():\n",
    "        answer *= (value + 1)\n",
    "        \n",
    "    answer -= 1 \n",
    "    \n",
    "    return answer \n",
    "        "
   ]
  },
  {
   "cell_type": "code",
   "execution_count": 98,
   "id": "dfb23329",
   "metadata": {},
   "outputs": [],
   "source": [
    "from collections import Counter\n",
    "from functools import reduce"
   ]
  },
  {
   "cell_type": "code",
   "execution_count": 99,
   "id": "e4d0b4b5",
   "metadata": {},
   "outputs": [],
   "source": [
    "def solution(clothes):\n",
    "    cnt = Counter([kind for name, kind in clothes])\n",
    "    answer = reduce(lambda x, y: x*(y+1), cnt.values(), 1) - 1\n",
    "    return answer"
   ]
  }
 ],
 "metadata": {
  "kernelspec": {
   "display_name": "Python 3 (ipykernel)",
   "language": "python",
   "name": "python3"
  },
  "language_info": {
   "codemirror_mode": {
    "name": "ipython",
    "version": 3
   },
   "file_extension": ".py",
   "mimetype": "text/x-python",
   "name": "python",
   "nbconvert_exporter": "python",
   "pygments_lexer": "ipython3",
   "version": "3.9.12"
  }
 },
 "nbformat": 4,
 "nbformat_minor": 5
}
