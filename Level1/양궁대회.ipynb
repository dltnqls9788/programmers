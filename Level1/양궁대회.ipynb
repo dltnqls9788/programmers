{
 "cells": [
  {
   "cell_type": "code",
   "execution_count": 47,
   "id": "61cfb939",
   "metadata": {},
   "outputs": [],
   "source": [
    "from collections import deque \n",
    "\n",
    "def bfs(n,info):\n",
    "    res = []\n",
    "    q = deque([(0,[0,0,0,0,0,0,0,0,0,0,0])])\n",
    "    maxGap = 0\n",
    "    \n",
    "    while q:\n",
    "        focus, arrow = q.popleft()\n",
    "        \n",
    "        if sum(arrow) == n: # 종료조건 1) 화살 다 쏜 경우\n",
    "            apeach, lion = 0, 0\n",
    "            for i in range(11):\n",
    "                if not (info[i] == 0 and arrow[i] ==0):\n",
    "                    if info[i] >= arrow[i]:\n",
    "                        apeach += 10 - i\n",
    "                    else:\n",
    "                        lion += 10 - i\n",
    "            \n",
    "            if apeach < lion : # 라이언이 이기면 \n",
    "                gap = lion - apeach\n",
    "                if maxGap > gap:\n",
    "                    continue\n",
    "                \n",
    "                if maxGap < gap:\n",
    "                    maxGap = gap # 최대 점수차 갱신\n",
    "                    res.clear()\n",
    "                res.append(arrow) # 최대점수차를 내는 화살상황 저장 ( if maxGap = gap)\n",
    "                \n",
    "        elif sum(arrow) > n:  # 종료조건 2) 화살 더 쏜 경우\n",
    "            continue\n",
    "            \n",
    "        elif focus == 10: # 종료조건 3) 화살 덜 쏜 경우 \n",
    "            tmp = arrow.copy()\n",
    "            tmp[focus] = n-sum(tmp)\n",
    "            q.append((-1,tmp))\n",
    "            \n",
    "        else: # 화살 쏘기 \n",
    "            tmp = arrow.copy()\n",
    "            tmp[focus] = info[focus]+1\n",
    "            q.append((focus+1, tmp)) # 어피치보다 1발 많이 쏘기 \n",
    "            tmp2 = arrow.copy()\n",
    "            tmp2[focus] = 0 \n",
    "            q.append((focus+1, tmp2)) # 0발 쏘기 \n",
    "            \n",
    "    return res"
   ]
  },
  {
   "cell_type": "code",
   "execution_count": 48,
   "id": "6bb2c18e",
   "metadata": {},
   "outputs": [],
   "source": [
    "def solution(n, info):\n",
    "    winList = bfs(n, info)\n",
    "    \n",
    "    if not winList:\n",
    "        return [-1]\n",
    "    elif len(winList) == 1:\n",
    "        return winList[0]\n",
    "    else:\n",
    "        return winList[-1]"
   ]
  },
  {
   "cell_type": "code",
   "execution_count": null,
   "id": "5923324b",
   "metadata": {},
   "outputs": [],
   "source": []
  }
 ],
 "metadata": {
  "kernelspec": {
   "display_name": "Python 3 (ipykernel)",
   "language": "python",
   "name": "python3"
  },
  "language_info": {
   "codemirror_mode": {
    "name": "ipython",
    "version": 3
   },
   "file_extension": ".py",
   "mimetype": "text/x-python",
   "name": "python",
   "nbconvert_exporter": "python",
   "pygments_lexer": "ipython3",
   "version": "3.9.12"
  }
 },
 "nbformat": 4,
 "nbformat_minor": 5
}
